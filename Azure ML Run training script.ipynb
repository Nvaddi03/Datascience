{
 "cells": [
  {
   "cell_type": "markdown",
   "id": "31ea9b62",
   "metadata": {},
   "source": [
    "### Writing a script to train a model\n",
    "\n",
    "You can use a ScriptRunConfig to run a script-based experiment that trains a machine learning model."
   ]
  },
  {
   "cell_type": "code",
   "execution_count": null,
   "id": "936d920c",
   "metadata": {},
   "outputs": [],
   "source": [
    "# Script\n",
    "\n",
    "from azureml.core import Run\n",
    "import pandas as pd\n",
    "import numpy as np\n",
    "import joblib\n",
    "from sklearn.model_selection import train_test_split\n",
    "from sklearn.linear_model import LogisticRegression\n",
    "\n",
    "# Get the experiment run context\n",
    "run = Run.get_context()\n",
    "\n",
    "# Prepare the dataset\n",
    "diabetes = pd.read_csv('data.csv')\n",
    "X, y = diabetes[['Feature1','Feature2','Feature3']].values, diabetes['Label'].values\n",
    "X_train, X_test, y_train, y_test = train_test_split(X, y, test_size=0.30)\n",
    "\n",
    "# Train a logistic regression model\n",
    "reg = 0.1\n",
    "model = LogisticRegression(C=1/reg, solver=\"liblinear\").fit(X_train, y_train)\n",
    "\n",
    "# calculate accuracy\n",
    "y_hat = model.predict(X_test)\n",
    "acc = np.average(y_hat == y_test)\n",
    "run.log('Accuracy', np.float(acc))\n",
    "\n",
    "# Save the trained model\n",
    "os.makedirs('outputs', exist_ok=True)\n",
    "joblib.dump(value=model, filename='outputs/model.pkl')\n",
    "\n",
    "run.complete()"
   ]
  },
  {
   "cell_type": "markdown",
   "id": "e3fa4a80",
   "metadata": {},
   "source": [
    "### Running the script as an experiment"
   ]
  },
  {
   "cell_type": "code",
   "execution_count": null,
   "id": "c681623c",
   "metadata": {},
   "outputs": [],
   "source": [
    "from azureml.core import Experiment, ScriptRunConfig, Environment\n",
    "from azureml.core.conda_dependencies import CondaDependencies\n",
    "\n",
    "# Create a Python environment for the experiment\n",
    "sklearn_env = Environment(\"sklearn-env\")\n",
    "\n",
    "# Ensure the required packages are installed\n",
    "packages = CondaDependencies.create(conda_packages=['scikit-learn','pip'],\n",
    "                                    pip_packages=['azureml-defaults'])\n",
    "sklearn_env.python.conda_dependencies = packages\n",
    "\n",
    "# Create a script config\n",
    "script_config = ScriptRunConfig(source_directory='training_folder',\n",
    "                                script='training.py',\n",
    "                                environment=sklearn_env) \n",
    "\n",
    "# Submit the experiment\n",
    "experiment = Experiment(workspace=ws, name='training-experiment')\n",
    "run = experiment.submit(config=script_config)\n",
    "run.wait_for_completion()"
   ]
  },
  {
   "cell_type": "markdown",
   "id": "ab57aa82",
   "metadata": {},
   "source": [
    "### Using script parameters"
   ]
  },
  {
   "cell_type": "code",
   "execution_count": null,
   "id": "3b2d0d06",
   "metadata": {},
   "outputs": [],
   "source": [
    "from azureml.core import Run\n",
    "import argparse\n",
    "import pandas as pd\n",
    "import numpy as np\n",
    "import joblib\n",
    "import os\n",
    "from sklearn.model_selection import train_test_split\n",
    "from sklearn.linear_model import LogisticRegression\n",
    "\n",
    "# Get the experiment run context\n",
    "run = Run.get_context()\n",
    "\n",
    "# Set regularization hyperparameter\n",
    "parser = argparse.ArgumentParser()\n",
    "parser.add_argument('--reg-rate', type=float, dest='reg_rate', default=0.01)\n",
    "args = parser.parse_args()\n",
    "reg = args.reg_rate\n",
    "\n",
    "# Prepare the dataset\n",
    "diabetes = pd.read_csv('data.csv')\n",
    "X, y = data[['Feature1','Feature2','Feature3']].values, data['Label'].values\n",
    "X_train, X_test, y_train, y_test = train_test_split(X, y, test_size=0.30)\n",
    "\n",
    "# Train a logistic regression model\n",
    "model = LogisticRegression(C=1/reg, solver=\"liblinear\").fit(X_train, y_train)\n",
    "\n",
    "# calculate accuracy\n",
    "y_hat = model.predict(X_test)\n",
    "acc = np.average(y_hat == y_test)\n",
    "run.log('Accuracy', np.float(acc))\n",
    "\n",
    "# Save the trained model\n",
    "os.makedirs('outputs', exist_ok=True)\n",
    "joblib.dump(value=model, filename='outputs/model.pkl')\n",
    "\n",
    "run.complete()"
   ]
  },
  {
   "cell_type": "markdown",
   "id": "b1127ec3",
   "metadata": {},
   "source": [
    "### Passing arguments to an experiment script"
   ]
  },
  {
   "cell_type": "code",
   "execution_count": null,
   "id": "a9ce05b9",
   "metadata": {},
   "outputs": [],
   "source": [
    "# Create a script config\n",
    "script_config = ScriptRunConfig(source_directory='training_folder',\n",
    "                                script='training.py',\n",
    "                                arguments = ['--reg-rate', 0.1],\n",
    "                                environment=sklearn_env)"
   ]
  },
  {
   "cell_type": "markdown",
   "id": "abcf2893",
   "metadata": {},
   "source": [
    "### Registering models\n",
    "\n",
    "After running an experiment that trains a model you can use a reference to the Run object to retrieve its outputs, including the trained model."
   ]
  },
  {
   "cell_type": "code",
   "execution_count": null,
   "id": "fce116d0",
   "metadata": {},
   "outputs": [],
   "source": [
    "# List the files generated by the experiment\n",
    "for file in run.get_file_names():\n",
    "    print(file)\n",
    "\n",
    "# Download a named file\n",
    "run.download_file(name='outputs/model.pkl', output_file_path='model.pkl')"
   ]
  },
  {
   "cell_type": "code",
   "execution_count": null,
   "id": "44f6c2b6",
   "metadata": {},
   "outputs": [],
   "source": [
    "from azureml.core import Model\n",
    "\n",
    "model = Model.register(workspace=ws,\n",
    "                       model_name='classification_model',\n",
    "                       model_path='model.pkl', # local path\n",
    "                       description='A classification model',\n",
    "                       tags={'data-format': 'CSV'},\n",
    "                       model_framework=Model.Framework.SCIKITLEARN,\n",
    "                       model_framework_version='0.20.3')"
   ]
  },
  {
   "cell_type": "code",
   "execution_count": null,
   "id": "388558b6",
   "metadata": {},
   "outputs": [],
   "source": [
    "#using run\n",
    "\n",
    "run.register_model( model_name='classification_model',\n",
    "                    model_path='outputs/model.pkl', # run outputs path\n",
    "                    description='A classification model',\n",
    "                    tags={'data-format': 'CSV'},\n",
    "                    model_framework=Model.Framework.SCIKITLEARN,\n",
    "                    model_framework_version='0.20.3')"
   ]
  },
  {
   "cell_type": "markdown",
   "id": "2ba87ece",
   "metadata": {},
   "source": [
    "### Viewing registered models"
   ]
  },
  {
   "cell_type": "code",
   "execution_count": null,
   "id": "e2398d55",
   "metadata": {},
   "outputs": [],
   "source": [
    "from azureml.core import Model\n",
    "\n",
    "for model in Model.list(ws):\n",
    "    # Get model name and auto-generated version\n",
    "    print(model.name, 'version:', model.version)"
   ]
  }
 ],
 "metadata": {
  "kernelspec": {
   "display_name": "Python 3 (ipykernel)",
   "language": "python",
   "name": "python3"
  },
  "language_info": {
   "codemirror_mode": {
    "name": "ipython",
    "version": 3
   },
   "file_extension": ".py",
   "mimetype": "text/x-python",
   "name": "python",
   "nbconvert_exporter": "python",
   "pygments_lexer": "ipython3",
   "version": "3.11.5"
  }
 },
 "nbformat": 4,
 "nbformat_minor": 5
}
