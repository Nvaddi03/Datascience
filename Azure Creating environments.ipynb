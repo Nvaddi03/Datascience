{
 "cells": [
  {
   "cell_type": "markdown",
   "id": "a0a56fab",
   "metadata": {},
   "source": [
    "### Creating environments"
   ]
  },
  {
   "cell_type": "code",
   "execution_count": null,
   "id": "50735e8c",
   "metadata": {},
   "outputs": [],
   "source": [
    "# Sample format of Conda configaration file - conda.yml:\n",
    "name: py_env\n",
    "dependencies:\n",
    "  - numpy\n",
    "  - pandas\n",
    "  - scikit-learn\n",
    "  - pip:\n",
    "    - azureml-defaults"
   ]
  },
  {
   "cell_type": "code",
   "execution_count": null,
   "id": "3ad40a32",
   "metadata": {},
   "outputs": [],
   "source": [
    "from azureml.core import Environment\n",
    "\n",
    "env = Environment.from_conda_specification(name='training_environment',\n",
    "                                           file_path='./conda.yml')"
   ]
  },
  {
   "cell_type": "code",
   "execution_count": null,
   "id": "e75dd9da",
   "metadata": {},
   "outputs": [],
   "source": [
    "#Creating an environment from an existing Conda environment\n",
    "\n",
    "from azureml.core import Environment\n",
    "\n",
    "env = Environment.from_existing_conda_environment(name='training_environment',\n",
    "                                                  conda_environment_name='py_env')"
   ]
  },
  {
   "cell_type": "markdown",
   "id": "e0485292",
   "metadata": {},
   "source": [
    "### Creating an environment by specifying packages"
   ]
  },
  {
   "cell_type": "code",
   "execution_count": null,
   "id": "e4e11f3c",
   "metadata": {},
   "outputs": [],
   "source": [
    "from azureml.core import Environment\n",
    "from azureml.core.conda_dependencies import CondaDependencies\n",
    "\n",
    "env = Environment('training_environment')\n",
    "deps = CondaDependencies.create(conda_packages=['scikit-learn','pandas','numpy'],\n",
    "                                pip_packages=['azureml-defaults'])\n",
    "env.python.conda_dependencies = deps"
   ]
  },
  {
   "cell_type": "code",
   "execution_count": null,
   "id": "b925e723",
   "metadata": {},
   "outputs": [],
   "source": [
    "#Configuring environment containers\n",
    "\n",
    "from azureml.core import Experiment, ScriptRunConfig\n",
    "from azureml.core.runconfig import DockerConfiguration\n",
    "\n",
    "docker_config = DockerConfiguration(use_docker=True)\n",
    "\n",
    "script_config = ScriptRunConfig(source_directory='my_folder',\n",
    "                                script='my_script.py',\n",
    "                                environment=env,\n",
    "                                docker_runtime_config=docker_config)"
   ]
  },
  {
   "cell_type": "code",
   "execution_count": null,
   "id": "8b450294",
   "metadata": {},
   "outputs": [],
   "source": [
    "env.docker.base_image='my-base-image'\n",
    "env.docker.base_image_registry='myregistry.azurecr.io/myimage'\n",
    "\n",
    "#image created on-demand based on the base image and additional settings in a dockerfile.\n",
    "env.docker.base_image = None\n",
    "env.docker.base_dockerfile = './Dockerfile'"
   ]
  },
  {
   "cell_type": "code",
   "execution_count": null,
   "id": "9841bdb2",
   "metadata": {},
   "outputs": [],
   "source": [
    "# override this behavior by setting python.user_managed_dependencies to True and setting an explicit Python path for your installation\n",
    "\n",
    "env.python.user_managed_dependencies=True\n",
    "env.python.interpreter_path = '/opt/miniconda/bin/python'"
   ]
  },
  {
   "cell_type": "markdown",
   "id": "bcf44867",
   "metadata": {},
   "source": [
    "### Registering an environment"
   ]
  },
  {
   "cell_type": "code",
   "execution_count": null,
   "id": "83fae954",
   "metadata": {},
   "outputs": [],
   "source": [
    "from azureml.core import Environment\n",
    "\n",
    "env_names = Environment.list(workspace=ws)\n",
    "for env_name in env_names:\n",
    "    print('Name:',env_name)\n",
    "    \n",
    "\n",
    "# Retrieving and using an environment\n",
    "#ScriptRunConfig.\n",
    "from azureml.core import Environment, ScriptRunConfig\n",
    "\n",
    "training_env = Environment.get(workspace=ws, name='training_environment')\n",
    "\n",
    "script_config = ScriptRunConfig(source_directory='my_folder',\n",
    "                                script='my_script.py',\n",
    "                                environment=training_env)"
   ]
  },
  {
   "cell_type": "code",
   "execution_count": null,
   "id": "e2ebf5bc",
   "metadata": {},
   "outputs": [],
   "source": []
  },
  {
   "cell_type": "code",
   "execution_count": null,
   "id": "80f36d17",
   "metadata": {},
   "outputs": [],
   "source": []
  }
 ],
 "metadata": {
  "kernelspec": {
   "display_name": "Python 3 (ipykernel)",
   "language": "python",
   "name": "python3"
  },
  "language_info": {
   "codemirror_mode": {
    "name": "ipython",
    "version": 3
   },
   "file_extension": ".py",
   "mimetype": "text/x-python",
   "name": "python",
   "nbconvert_exporter": "python",
   "pygments_lexer": "ipython3",
   "version": "3.11.5"
  }
 },
 "nbformat": 4,
 "nbformat_minor": 5
}
