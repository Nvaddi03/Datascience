{
 "cells": [
  {
   "cell_type": "markdown",
   "id": "af082eea",
   "metadata": {},
   "source": [
    "### Azure compute targets"
   ]
  },
  {
   "cell_type": "code",
   "execution_count": null,
   "id": "01bbadd2",
   "metadata": {},
   "outputs": [],
   "source": [
    "#Creating a managed compute target with the SDK\n",
    "\n",
    "from azureml.core import Workspace\n",
    "from azureml.core.compute import ComputeTarget, AmlCompute\n",
    "\n",
    "# Load the workspace from the saved config file\n",
    "ws = Workspace.from_config()\n",
    "\n",
    "# Specify a name for the compute (unique within the workspace)\n",
    "compute_name = 'aml-cluster'\n",
    "\n",
    "# Define compute configuration\n",
    "compute_config = AmlCompute.provisioning_configuration(vm_size='STANDARD_DS11_V2',\n",
    "                                                       min_nodes=0, max_nodes=4,\n",
    "                                                       vm_priority='dedicated')\n",
    "\n",
    "# Create the compute\n",
    "aml_cluster = ComputeTarget.create(ws, compute_name, compute_config)\n",
    "aml_cluster.wait_for_completion(show_output=True)"
   ]
  },
  {
   "cell_type": "markdown",
   "id": "0e4f41cf",
   "metadata": {},
   "source": [
    "### Attaching an unmanaged compute target with the SDK\n",
    "\n",
    "An unmanaged compute target is one that is defined and managed outside of the Azure Machine Learning workspace; for example, an Azure virtual machine or an Azure Databricks cluster.\n",
    "\n",
    "The code to attach an existing unmanaged compute target is similar to the code used to create a managed compute target, except that you must use the ComputeTarget.attach() method to attach the existing compute based on its target-specific configuration settings.\n",
    "\n",
    "For example, the following code can be used to attach an existing Azure Databricks cluster"
   ]
  },
  {
   "cell_type": "code",
   "execution_count": null,
   "id": "5c6d30a1",
   "metadata": {},
   "outputs": [],
   "source": [
    "from azureml.core import Workspace\n",
    "from azureml.core.compute import ComputeTarget, DatabricksCompute\n",
    "\n",
    "# Load the workspace from the saved config file\n",
    "ws = Workspace.from_config()\n",
    "\n",
    "# Specify a name for the compute (unique within the workspace)\n",
    "compute_name = 'db_cluster'\n",
    "\n",
    "# Define configuration for existing Azure Databricks cluster\n",
    "db_workspace_name = 'db_workspace'\n",
    "db_resource_group = 'db_resource_group'\n",
    "db_access_token = '1234-abc-5678-defg-90...'\n",
    "db_config = DatabricksCompute.attach_configuration(resource_group=db_resource_group,\n",
    "                                                   workspace_name=db_workspace_name,\n",
    "                                                   access_token=db_access_token)\n",
    "\n",
    "# Create the compute\n",
    "databricks_compute = ComputeTarget.attach(ws, compute_name, db_config)\n",
    "databricks_compute.wait_for_completion(True)"
   ]
  },
  {
   "cell_type": "code",
   "execution_count": null,
   "id": "fd5d80ea",
   "metadata": {},
   "outputs": [],
   "source": [
    "#Checking for an existing compute target\n",
    "\n",
    "from azureml.core.compute import ComputeTarget, AmlCompute\n",
    "from azureml.core.compute_target import ComputeTargetException\n",
    "\n",
    "compute_name = \"aml-cluster\"\n",
    "\n",
    "# Check if the compute target exists\n",
    "try:\n",
    "    aml_cluster = ComputeTarget(workspace=ws, name=compute_name)\n",
    "    print('Found existing cluster.')\n",
    "except ComputeTargetException:\n",
    "    # If not, create it\n",
    "    compute_config = AmlCompute.provisioning_configuration(vm_size='STANDARD_DS11_V2',\n",
    "                                                           max_nodes=4)\n",
    "    aml_cluster = ComputeTarget.create(ws, compute_name, compute_config)\n",
    "\n",
    "aml_cluster.wait_for_completion(show_output=True)"
   ]
  },
  {
   "cell_type": "markdown",
   "id": "e53b3cda",
   "metadata": {},
   "source": [
    "### Use compute targets"
   ]
  },
  {
   "cell_type": "code",
   "execution_count": null,
   "id": "75249366",
   "metadata": {},
   "outputs": [],
   "source": [
    "from azureml.core import Environment, ScriptRunConfig\n",
    "\n",
    "compute_name = 'aml-cluster'\n",
    "\n",
    "training_env = Environment.get(workspace=ws, name='training_environment')\n",
    "\n",
    "script_config = ScriptRunConfig(source_directory='my_dir',\n",
    "                                script='script.py',\n",
    "                                environment=training_env,\n",
    "                                compute_target=compute_name)"
   ]
  },
  {
   "cell_type": "code",
   "execution_count": null,
   "id": "fb4f09ca",
   "metadata": {},
   "outputs": [],
   "source": [
    "#Instead of specifying the name of the compute target, you can specify a ComputeTarget object, like this:\n",
    "\n",
    "from azureml.core import Environment, ScriptRunConfig\n",
    "from azureml.core.compute import ComputeTarget\n",
    "\n",
    "compute_name = \"aml-cluster\"\n",
    "\n",
    "training_cluster = ComputeTarget(workspace=ws, name=compute_name)\n",
    "\n",
    "training_env = Environment.get(workspace=ws, name='training_environment')\n",
    "\n",
    "script_config = ScriptRunConfig(source_directory='my_dir',\n",
    "                                script='script.py',\n",
    "                                environment=training_env,\n",
    "                                compute_target=training_cluster)"
   ]
  },
  {
   "cell_type": "code",
   "execution_count": null,
   "id": "d5f084da",
   "metadata": {},
   "outputs": [],
   "source": []
  },
  {
   "cell_type": "code",
   "execution_count": null,
   "id": "65ac8fb0",
   "metadata": {},
   "outputs": [],
   "source": []
  },
  {
   "cell_type": "code",
   "execution_count": null,
   "id": "76cd6add",
   "metadata": {},
   "outputs": [],
   "source": []
  },
  {
   "cell_type": "code",
   "execution_count": null,
   "id": "a29fecbc",
   "metadata": {},
   "outputs": [],
   "source": []
  }
 ],
 "metadata": {
  "kernelspec": {
   "display_name": "Python 3 (ipykernel)",
   "language": "python",
   "name": "python3"
  },
  "language_info": {
   "codemirror_mode": {
    "name": "ipython",
    "version": 3
   },
   "file_extension": ".py",
   "mimetype": "text/x-python",
   "name": "python",
   "nbconvert_exporter": "python",
   "pygments_lexer": "ipython3",
   "version": "3.11.5"
  }
 },
 "nbformat": 4,
 "nbformat_minor": 5
}
